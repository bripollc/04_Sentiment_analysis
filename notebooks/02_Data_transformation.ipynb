{
 "cells": [
  {
   "cell_type": "code",
   "execution_count": 1,
   "id": "60b65a75",
   "metadata": {},
   "outputs": [],
   "source": [
    "import pandas as pd\n",
    "import numpy as np\n",
    "\n",
    "from translate import Translator\n",
    "\n",
    "from nltk.sentiment.vader import SentimentIntensityAnalyzer"
   ]
  },
  {
   "cell_type": "markdown",
   "id": "2298e677",
   "metadata": {},
   "source": [
    "# LOAD CSV"
   ]
  },
  {
   "cell_type": "code",
   "execution_count": 2,
   "id": "3dd38835",
   "metadata": {},
   "outputs": [],
   "source": [
    "scrap = pd.read_csv('../data/scrapping_booking_prisma.csv')"
   ]
  },
  {
   "cell_type": "markdown",
   "id": "c4b57768",
   "metadata": {},
   "source": [
    "# TRANSLATION"
   ]
  },
  {
   "cell_type": "code",
   "execution_count": 3,
   "id": "0031f05b",
   "metadata": {},
   "outputs": [
    {
     "ename": "IndentationError",
     "evalue": "unexpected indent (1360331091.py, line 4)",
     "output_type": "error",
     "traceback": [
      "\u001b[0;36m  Input \u001b[0;32mIn [3]\u001b[0;36m\u001b[0m\n\u001b[0;31m    The function translates a given text from Spanish to English using the Google Translate API.\u001b[0m\n\u001b[0m    ^\u001b[0m\n\u001b[0;31mIndentationError\u001b[0m\u001b[0;31m:\u001b[0m unexpected indent\n"
     ]
    }
   ],
   "source": [
    "\"\"\"\n",
    "def translate_to_english(text):\n",
    "    \"\"\"\n",
    "    The function translates a given text from Spanish to English using the Google Translate API.\n",
    "    \"\"\"\n",
    "    translator = Translator(to_lang='en', from_lang='es')\n",
    "    translation = translator.translate(text)\n",
    "    return translation\n",
    "\"\"\""
   ]
  },
  {
   "cell_type": "code",
   "execution_count": 4,
   "id": "43548722",
   "metadata": {
    "scrolled": true
   },
   "outputs": [
    {
     "data": {
      "text/plain": [
       "\"\\nscrap['pos_review_en'] = scrap['pos_review'].apply(translate_to_english)\\nscrap['neg_review_en'] = scrap['neg_review'].apply(translate_to_english)\\n\""
      ]
     },
     "execution_count": 4,
     "metadata": {},
     "output_type": "execute_result"
    }
   ],
   "source": [
    "\"\"\"\n",
    "scrap['pos_review_en'] = scrap['pos_review'].apply(translate_to_english)\n",
    "scrap['neg_review_en'] = scrap['neg_review'].apply(translate_to_english)\n",
    "\"\"\""
   ]
  },
  {
   "cell_type": "code",
   "execution_count": 5,
   "id": "22620739",
   "metadata": {
    "scrolled": true
   },
   "outputs": [],
   "source": [
    "prisma = pd.read_csv('../data/prisma_eng_full.csv')\n",
    "pd.set_option('display.max_rows', None)"
   ]
  },
  {
   "cell_type": "markdown",
   "id": "74d79947",
   "metadata": {},
   "source": [
    "# CREATE COLS"
   ]
  },
  {
   "cell_type": "code",
   "execution_count": 30,
   "id": "e38ada67",
   "metadata": {
    "scrolled": true
   },
   "outputs": [],
   "source": [
    "def create_cols (df):\n",
    "\n",
    "    \"\"\"\n",
    "    Function that performs different operations to create new columns in a df.\n",
    "    - Dates\n",
    "    - Scores\n",
    "    - Sentiment Analysis\n",
    "    \"\"\"\n",
    "    \n",
    "    # \"YEAR - MONTH\" - create columns\n",
    "    df['date_review'] = pd.to_datetime(df['date_review'], dayfirst=True)\n",
    "    df['year_review'] = df['date_review'].dt.year\n",
    "    df['month_review'] = df['date_review'].dt.month\n",
    "\n",
    "    # \"LEN_REVIEW\" - create columns\n",
    "    df['len_pos_review'] = df['pos_review'].apply(lambda x: len(str(x)) if not pd.isnull(x) else 0)\n",
    "    df['len_neg_review'] = df['neg_review'].apply(lambda x: len(str(x)) if not pd.isnull(x) else 0)\n",
    "\n",
    "    # SCORES - create column\n",
    "    #df['score'] = df['score'].str.replace(',', '.').astype(float)\n",
    "    df['score'] = df['score'].astype(str).str.replace(',', '.').astype(float)\n",
    "\n",
    "\n",
    "    def map_score(score):\n",
    "        if score >= 9:\n",
    "            return 'Wonderful'\n",
    "        elif score >= 7:\n",
    "            return 'Good'\n",
    "        elif score >= 5:\n",
    "            return 'Ok'\n",
    "        elif score >= 3:\n",
    "            return 'Poor'\n",
    "        else:\n",
    "            return 'Very poor'\n",
    "\n",
    "    df['score_2'] = df['score'].apply(map_score)\n",
    "\n",
    "    # SIA - create sentiment columns\n",
    "    sia = SentimentIntensityAnalyzer() #nltk\n",
    "\n",
    "    df[\"pos_compound\"] = df.pos_review_en.apply(lambda x: sia.polarity_scores(x)[\"compound\"])\n",
    "    df['pos_comp_score'] = df['pos_compound'].apply(lambda x: \"positive\" if x >= 0.2 else (\"neutral\" if -0.2 <= x <= 0.2 else \"negative\"))\n",
    "\n",
    "    df[\"neg_compound\"] = df.neg_review_en.apply(lambda x: sia.polarity_scores(x)[\"compound\"] if not pd.isna(x) else np.nan)\n",
    "    df['neg_comp_score'] = df['neg_compound'].apply(lambda x: \"positive\" if x >= 0.2 else (\"neutral\" if -0.2 <= x <= 0.2 else \"negative\") if not pd.isna(x) else np.nan)\n",
    "\n",
    "    return df\n",
    "\n",
    "\n"
   ]
  },
  {
   "cell_type": "code",
   "execution_count": 31,
   "id": "938f557b",
   "metadata": {},
   "outputs": [],
   "source": [
    "prisma = create_cols (prisma)"
   ]
  },
  {
   "cell_type": "markdown",
   "id": "3305c363",
   "metadata": {},
   "source": [
    "# CLEAN COLS"
   ]
  },
  {
   "cell_type": "code",
   "execution_count": 32,
   "id": "88224a64",
   "metadata": {
    "scrolled": true
   },
   "outputs": [
    {
     "data": {
      "text/plain": [
       "Index(['client', 'nationality', 'title', 'pos_review', 'pos_review_en',\n",
       "       'pos_compound', 'pos_comp_score', 'len_pos_review', 'neg_review',\n",
       "       'neg_review_en', 'neg_compound', 'neg_comp_score', 'len_neg_review',\n",
       "       'date_review', 'year_review', 'month_review', 'score', 'score_2',\n",
       "       'travel_type', 'room_type'],\n",
       "      dtype='object')"
      ]
     },
     "execution_count": 32,
     "metadata": {},
     "output_type": "execute_result"
    }
   ],
   "source": [
    "prisma.columns# CREATE COLS"
   ]
  },
  {
   "cell_type": "code",
   "execution_count": 35,
   "id": "b951f134",
   "metadata": {},
   "outputs": [],
   "source": [
    "def clean_cols(df):\n",
    "    \n",
    "    \"\"\"\n",
    "    Function that performs various operations to clean and organize the columns of the df.\n",
    "    \"\"\"\n",
    "     # DELETE - the rows without room\n",
    "    df = df[df['room_type'].str.startswith('Habitación')]  \n",
    "    # DELETE - reviews w/o comments\n",
    "    df = df[df['pos_review'] != 'Esta entrada no tiene comentarios']\n",
    "    # DELETE - NaN values\n",
    "    df = df.dropna(subset=['travel_type'])\n",
    "    \n",
    "    # DELETE - Unnamed: 0\n",
    "    #df = df.drop(\"Unnamed: 0\", axis=1)\n",
    "\n",
    "    column_order = ['client',\n",
    "                    'nationality',\n",
    "                    'title',\n",
    "                    \n",
    "                    'pos_review',\n",
    "                    'pos_review_en',\n",
    "                    'pos_compound',\n",
    "                    'pos_comp_score',\n",
    "                    'len_pos_review',\n",
    "                    \n",
    "                    'neg_review',\n",
    "                    'neg_review_en',\n",
    "                    'neg_compound',\n",
    "                    'neg_comp_score',\n",
    "                    'len_neg_review',\n",
    "                    \n",
    "                    'date_review',\n",
    "                    'year_review',\n",
    "                    'month_review',\n",
    "                    \n",
    "                    'score',\n",
    "                    'score_2',\n",
    "                    'travel_type',\n",
    "                    'room_type']\n",
    "    \n",
    "    df = df.reindex(columns=column_order)\n",
    "    \n",
    "    return df\n"
   ]
  },
  {
   "cell_type": "code",
   "execution_count": 36,
   "id": "76ffd132",
   "metadata": {
    "scrolled": true
   },
   "outputs": [],
   "source": [
    "prisma = clean_cols (prisma)"
   ]
  },
  {
   "cell_type": "code",
   "execution_count": 38,
   "id": "bef93a07",
   "metadata": {},
   "outputs": [
    {
     "data": {
      "text/plain": [
       "client              0\n",
       "nationality         0\n",
       "title               0\n",
       "pos_review          0\n",
       "pos_review_en       0\n",
       "pos_compound        0\n",
       "pos_comp_score      0\n",
       "len_pos_review      0\n",
       "neg_review        248\n",
       "neg_review_en     248\n",
       "neg_compound      248\n",
       "neg_comp_score    248\n",
       "len_neg_review      0\n",
       "date_review         0\n",
       "year_review         0\n",
       "month_review        0\n",
       "score               0\n",
       "score_2             0\n",
       "travel_type         0\n",
       "room_type           0\n",
       "dtype: int64"
      ]
     },
     "execution_count": 38,
     "metadata": {},
     "output_type": "execute_result"
    }
   ],
   "source": [
    "prisma.isnull().sum()"
   ]
  },
  {
   "cell_type": "markdown",
   "id": "fa0e7d93",
   "metadata": {},
   "source": [
    "# SAVE"
   ]
  },
  {
   "cell_type": "code",
   "execution_count": 39,
   "id": "966959ab",
   "metadata": {},
   "outputs": [],
   "source": [
    "#prisma.to_csv('../data/prisma_def.csv', index=False)"
   ]
  },
  {
   "cell_type": "code",
   "execution_count": 2,
   "id": "c49e658d",
   "metadata": {},
   "outputs": [],
   "source": [
    "import pandas as pd"
   ]
  },
  {
   "cell_type": "code",
   "execution_count": 3,
   "id": "225f8ee2",
   "metadata": {},
   "outputs": [
    {
     "data": {
      "text/html": [
       "<div>\n",
       "<style scoped>\n",
       "    .dataframe tbody tr th:only-of-type {\n",
       "        vertical-align: middle;\n",
       "    }\n",
       "\n",
       "    .dataframe tbody tr th {\n",
       "        vertical-align: top;\n",
       "    }\n",
       "\n",
       "    .dataframe thead th {\n",
       "        text-align: right;\n",
       "    }\n",
       "</style>\n",
       "<table border=\"1\" class=\"dataframe\">\n",
       "  <thead>\n",
       "    <tr style=\"text-align: right;\">\n",
       "      <th></th>\n",
       "      <th>client</th>\n",
       "      <th>nationality</th>\n",
       "      <th>title</th>\n",
       "      <th>pos_review</th>\n",
       "      <th>pos_review_en</th>\n",
       "      <th>pos_compound</th>\n",
       "      <th>pos_comp_score</th>\n",
       "      <th>len_pos_review</th>\n",
       "      <th>neg_review</th>\n",
       "      <th>neg_review_en</th>\n",
       "      <th>neg_compound</th>\n",
       "      <th>neg_comp_score</th>\n",
       "      <th>len_neg_review</th>\n",
       "      <th>date_review</th>\n",
       "      <th>year_review</th>\n",
       "      <th>month_review</th>\n",
       "      <th>score</th>\n",
       "      <th>score_2</th>\n",
       "      <th>travel_type</th>\n",
       "      <th>room_type</th>\n",
       "    </tr>\n",
       "  </thead>\n",
       "  <tbody>\n",
       "    <tr>\n",
       "      <th>0</th>\n",
       "      <td>Sandra</td>\n",
       "      <td>España</td>\n",
       "      <td>Excepcional</td>\n",
       "      <td>Restaurante cena</td>\n",
       "      <td>La Cena Restaurant</td>\n",
       "      <td>0.0000</td>\n",
       "      <td>neutral</td>\n",
       "      <td>16</td>\n",
       "      <td>NaN</td>\n",
       "      <td>NaN</td>\n",
       "      <td>NaN</td>\n",
       "      <td>NaN</td>\n",
       "      <td>0</td>\n",
       "      <td>2023-04-27</td>\n",
       "      <td>2023</td>\n",
       "      <td>4</td>\n",
       "      <td>10.0</td>\n",
       "      <td>Wonderful</td>\n",
       "      <td>En pareja</td>\n",
       "      <td>Habitación Familiar Deluxe</td>\n",
       "    </tr>\n",
       "    <tr>\n",
       "      <th>1</th>\n",
       "      <td>Augustbou</td>\n",
       "      <td>España</td>\n",
       "      <td>Muy bien</td>\n",
       "      <td>Ubicación, aparcamiento, amabilidad del person...</td>\n",
       "      <td>Location, parking, friendly staff.\\nCorrect br...</td>\n",
       "      <td>0.4939</td>\n",
       "      <td>positive</td>\n",
       "      <td>68</td>\n",
       "      <td>No es un hotel con magníficas instalaciones, e...</td>\n",
       "      <td>It is not a hotel with magnificent facilities,...</td>\n",
       "      <td>-0.1144</td>\n",
       "      <td>neutral</td>\n",
       "      <td>65</td>\n",
       "      <td>2023-04-26</td>\n",
       "      <td>2023</td>\n",
       "      <td>4</td>\n",
       "      <td>8.0</td>\n",
       "      <td>Good</td>\n",
       "      <td>En pareja</td>\n",
       "      <td>Habitación Doble Deluxe</td>\n",
       "    </tr>\n",
       "    <tr>\n",
       "      <th>2</th>\n",
       "      <td>Jeep</td>\n",
       "      <td>España</td>\n",
       "      <td>Muy bien</td>\n",
       "      <td>Tamaño de habitacion</td>\n",
       "      <td>Room Size</td>\n",
       "      <td>0.0000</td>\n",
       "      <td>neutral</td>\n",
       "      <td>20</td>\n",
       "      <td>Wi-fi colapsada</td>\n",
       "      <td>Wi-fi Collapsed</td>\n",
       "      <td>-0.2732</td>\n",
       "      <td>negative</td>\n",
       "      <td>15</td>\n",
       "      <td>2023-04-24</td>\n",
       "      <td>2023</td>\n",
       "      <td>4</td>\n",
       "      <td>8.0</td>\n",
       "      <td>Good</td>\n",
       "      <td>En pareja</td>\n",
       "      <td>Habitación Doble Deluxe</td>\n",
       "    </tr>\n",
       "  </tbody>\n",
       "</table>\n",
       "</div>"
      ],
      "text/plain": [
       "      client nationality        title   \n",
       "0     Sandra      España  Excepcional  \\\n",
       "1  Augustbou      España     Muy bien   \n",
       "2       Jeep      España     Muy bien   \n",
       "\n",
       "                                          pos_review   \n",
       "0                                   Restaurante cena  \\\n",
       "1  Ubicación, aparcamiento, amabilidad del person...   \n",
       "2                               Tamaño de habitacion   \n",
       "\n",
       "                                       pos_review_en  pos_compound   \n",
       "0                                 La Cena Restaurant        0.0000  \\\n",
       "1  Location, parking, friendly staff.\\nCorrect br...        0.4939   \n",
       "2                                          Room Size        0.0000   \n",
       "\n",
       "  pos_comp_score  len_pos_review   \n",
       "0        neutral              16  \\\n",
       "1       positive              68   \n",
       "2        neutral              20   \n",
       "\n",
       "                                          neg_review   \n",
       "0                                                NaN  \\\n",
       "1  No es un hotel con magníficas instalaciones, e...   \n",
       "2                                    Wi-fi colapsada   \n",
       "\n",
       "                                       neg_review_en  neg_compound   \n",
       "0                                                NaN           NaN  \\\n",
       "1  It is not a hotel with magnificent facilities,...       -0.1144   \n",
       "2                                    Wi-fi Collapsed       -0.2732   \n",
       "\n",
       "  neg_comp_score  len_neg_review date_review  year_review  month_review   \n",
       "0            NaN               0  2023-04-27         2023             4  \\\n",
       "1        neutral              65  2023-04-26         2023             4   \n",
       "2       negative              15  2023-04-24         2023             4   \n",
       "\n",
       "   score    score_2 travel_type                   room_type  \n",
       "0   10.0  Wonderful   En pareja  Habitación Familiar Deluxe  \n",
       "1    8.0       Good   En pareja     Habitación Doble Deluxe  \n",
       "2    8.0       Good   En pareja     Habitación Doble Deluxe  "
      ]
     },
     "execution_count": 3,
     "metadata": {},
     "output_type": "execute_result"
    }
   ],
   "source": [
    "df = pd.read_csv('../data/prisma_def.csv')\n",
    "df.head(3)"
   ]
  },
  {
   "cell_type": "code",
   "execution_count": 5,
   "id": "65c342ae",
   "metadata": {},
   "outputs": [],
   "source": [
    "df.to_json('../data/prisma_def.json')"
   ]
  }
 ],
 "metadata": {
  "kernelspec": {
   "display_name": "Python 3 (ipykernel)",
   "language": "python",
   "name": "python3"
  },
  "language_info": {
   "codemirror_mode": {
    "name": "ipython",
    "version": 3
   },
   "file_extension": ".py",
   "mimetype": "text/x-python",
   "name": "python",
   "nbconvert_exporter": "python",
   "pygments_lexer": "ipython3",
   "version": "3.9.12"
  },
  "toc": {
   "base_numbering": 1,
   "nav_menu": {},
   "number_sections": true,
   "sideBar": true,
   "skip_h1_title": false,
   "title_cell": "Table of Contents",
   "title_sidebar": "Contents",
   "toc_cell": false,
   "toc_position": {},
   "toc_section_display": true,
   "toc_window_display": false
  }
 },
 "nbformat": 4,
 "nbformat_minor": 5
}
